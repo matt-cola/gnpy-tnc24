{
 "cells": [
  {
   "cell_type": "markdown",
   "metadata": {},
   "source": [
    "# GNPy Simulation"
   ]
  },
  {
   "cell_type": "code",
   "execution_count": null,
   "metadata": {},
   "outputs": [],
   "source": [
    "import os\n",
    "from pathlib import Path\n",
    "from gnpy.core import utils, info, elements, network, equipment\n",
    "from gnpy.topology import request\n",
    "from gnpy.tools.json_io import load_network, load_equipment"
   ]
  },
  {
   "cell_type": "code",
   "execution_count": null,
   "metadata": {},
   "outputs": [],
   "source": [
    "import networkx as nx\n",
    "from pyvis import network as pvn\n",
    "\n",
    "def plot_graph(network):\n",
    "    \"\"\"\n",
    "    Plots a NetworkX DiGraph using PyVis and saves the HTML file.\n",
    "\n",
    "    Args:\n",
    "        network (networkx.DiGraph): The input NetworkX DiGraph.\n",
    "\n",
    "    Returns:\n",
    "        None\n",
    "    \"\"\"\n",
    "    # Convert node IDs to strings\n",
    "    G = nx.relabel_nodes(network, {n: str(n) for n in network.nodes()})\n",
    "\n",
    "    # Set the weight attribute to 1 for all edges\n",
    "    for u, v in G.edges():\n",
    "        G.edges[u, v]['weight'] = 0\n",
    "\n",
    "    # Create a PyVis network object from the graph\n",
    "    net = pvn.Network(notebook=True, directed=True)\n",
    "\n",
    "    # Define custom node and edge attribute dictionaries\n",
    "    node_attrs = {}  # No node attributes\n",
    "    edge_attrs = {}  # No edge attributes\n",
    "\n",
    "    net.from_nx(G)\n",
    "\n",
    "    # Show some additional options\n",
    "    net.show_buttons(filter_=['physics'])\n",
    "    net.show('network_plot.html')"
   ]
  },
  {
   "cell_type": "code",
   "execution_count": null,
   "metadata": {},
   "outputs": [],
   "source": [
    "ROOT_PATH = Path(os.getcwd())\n",
    "RESOURCES_PATH = ROOT_PATH\n",
    "topo = RESOURCES_PATH / \"tnc24_topo.json\"\n",
    "conf = RESOURCES_PATH / \"tnc24_eqpt.json\"\n",
    "lab_eqpt = load_equipment(conf)\n",
    "lab_net = load_network(topo, lab_eqpt)\n",
    "plot_graph(lab_net)"
   ]
  },
  {
   "cell_type": "code",
   "execution_count": null,
   "metadata": {},
   "outputs": [],
   "source": [
    "si = info.create_input_spectral_information(f_min = lab_eqpt['SI']['default'].f_min, \n",
    "                                            f_max = lab_eqpt['SI']['default'].f_max, \n",
    "                                            roll_off = lab_eqpt['SI']['default'].roll_off, \n",
    "                                            baud_rate = lab_eqpt['SI']['default'].baud_rate, \n",
    "                                            power = utils.dbm2watt(lab_eqpt['SI']['default'].power_dbm), \n",
    "                                            spacing = lab_eqpt['SI']['default'].spacing, \n",
    "                                            tx_osnr = lab_eqpt['SI']['default'].tx_osnr)"
   ]
  },
  {
   "cell_type": "code",
   "execution_count": null,
   "metadata": {},
   "outputs": [],
   "source": [
    "roadms = [r for r in lab_net.nodes() if isinstance(r, elements.Roadm)]\n",
    "transceivers = [t for t in lab_net.nodes() if isinstance(t, elements.Transceiver)]\n",
    "total_power = lab_eqpt['SI']['default'].power_dbm + utils.lin2db(si.number_of_channels)"
   ]
  },
  {
   "cell_type": "code",
   "execution_count": null,
   "metadata": {},
   "outputs": [],
   "source": [
    "for roadm in roadms:\n",
    "    network.set_roadm_ref_carrier(roadm, lab_eqpt) #this saves the baud_rate and the spacing defined in equipment['SI'] in each \"roadm\"\n",
    "    network.set_roadm_per_degree_targets(roadm, lab_net) #set the 'per_degree_pch_psd'...don't know why it is not done before\n",
    "for roadm in roadms + transceivers:\n",
    "    network.set_egress_amplifier(lab_net, roadm, lab_eqpt, pref_ch_db=lab_eqpt['SI']['default'].power_dbm, \n",
    "                                 pref_total_db=total_power, verbose=True)\n",
    "for roadm in roadms:\n",
    "    network.set_roadm_input_powers(lab_net, roadm, lab_eqpt, lab_eqpt['SI']['default'].power_dbm)\n",
    "for fiber in [f for f in lab_net.nodes() if isinstance(f, (elements.Fiber, elements.RamanFiber))]:\n",
    "    network.set_fiber_input_power(lab_net, fiber, lab_eqpt, lab_eqpt['SI']['default'].power_dbm)"
   ]
  },
  {
   "cell_type": "code",
   "execution_count": null,
   "metadata": {},
   "outputs": [],
   "source": [
    "amps = [r for r in lab_net.nodes() if isinstance(r, elements.Edfa)]"
   ]
  },
  {
   "cell_type": "code",
   "execution_count": null,
   "metadata": {},
   "outputs": [],
   "source": [
    "source_node = \"TX\"\n",
    "dest_node = \"RX\"\n",
    "source = next((node for node in lab_net.nodes() if node.uid == source_node and isinstance(node, elements.Transceiver)), None)\n",
    "dest = next((node for node in lab_net.nodes() if node.uid == dest_node and isinstance(node, elements.Transceiver)), None)\n",
    "\n",
    "params = {}\n",
    "params['request_id'] = 0\n",
    "params['source'] = source.uid\n",
    "params['destination'] = dest.uid\n",
    "params['nodes_list'] = [dest.uid]\n",
    "params['loose_list'] = ['STRICT']\n",
    "\n",
    "class MyParams:\n",
    "    def __init__(self, **entries):\n",
    "        self.__dict__.update(entries)\n",
    "\n",
    "params = MyParams(**params)"
   ]
  },
  {
   "cell_type": "code",
   "execution_count": null,
   "metadata": {},
   "outputs": [],
   "source": [
    "path = request.compute_constrained_path(lab_net, params)\n",
    "path"
   ]
  },
  {
   "cell_type": "code",
   "execution_count": null,
   "metadata": {},
   "outputs": [],
   "source": [
    "for i, el in enumerate(path):\n",
    "    if isinstance(el, elements.Roadm):\n",
    "        si = el(si, degree=path[i + 1].uid, from_degree=path[i - 1].uid)\n",
    "    else:\n",
    "        si = el(si)    \n",
    "    print(el.uid, vars(si))"
   ]
  },
  {
   "cell_type": "code",
   "execution_count": null,
   "metadata": {},
   "outputs": [],
   "source": [
    "utils.mean(dest.snr)"
   ]
  },
  {
   "cell_type": "code",
   "execution_count": null,
   "metadata": {},
   "outputs": [],
   "source": [
    "utils.mean(dest.snr_01nm)"
   ]
  },
  {
   "cell_type": "code",
   "execution_count": null,
   "metadata": {},
   "outputs": [],
   "source": [
    "dest.snr[48]"
   ]
  },
  {
   "cell_type": "markdown",
   "metadata": {},
   "source": [
    "# Simulation vs Measurement"
   ]
  },
  {
   "cell_type": "code",
   "execution_count": null,
   "metadata": {},
   "outputs": [],
   "source": [
    "import pandas as pd\n",
    "import plotly.graph_objects as go\n",
    "from pathlib import Path\n",
    "from gnpy.core import utils\n",
    "from scipy.optimize import curve_fit, fsolve\n",
    "from scipy.special import ndtr, erfc"
   ]
  },
  {
   "cell_type": "code",
   "execution_count": null,
   "metadata": {},
   "outputs": [],
   "source": [
    "ROOT_PATH = Path(os.getcwd())\n",
    "BAUDRATE = 32 #GBaud\n",
    "NOISE_BW =  12.5 #GHz\n",
    "ROLLOFF = 1.15 #root raised cosine roll-off factor"
   ]
  },
  {
   "cell_type": "code",
   "execution_count": null,
   "metadata": {},
   "outputs": [],
   "source": [
    "def b2b(x, a, b, c):\n",
    "    gsnr = x\n",
    "    snr_trx = c\n",
    "    snr_tot = (gsnr * snr_trx) / (gsnr + snr_trx)\n",
    "    return a * ndtr(- b * utils.sqrt(snr_tot))"
   ]
  },
  {
   "cell_type": "code",
   "execution_count": null,
   "metadata": {},
   "outputs": [],
   "source": [
    "df = pd.read_excel(ROOT_PATH / 'BER_vs_OSNR.xlsx', sheet_name='Sheet1', header=3)\n",
    "osnr_01_db = df.values[:, 0]\n",
    "ber = df.values[:, 1]\n",
    "osnr = utils.db2lin(osnr_01_db) * NOISE_BW / BAUDRATE\n",
    "osnr_db = utils.lin2db(osnr)\n",
    "ber_db = utils.lin2db(ber)"
   ]
  },
  {
   "cell_type": "code",
   "execution_count": null,
   "metadata": {},
   "outputs": [],
   "source": [
    "popt, pcov = curve_fit(b2b, xdata=osnr, ydata=ber, bounds=([0., 0., 10], [1., 1.2, 900]))\n",
    "print(popt)\n",
    "print(pcov)"
   ]
  },
  {
   "cell_type": "code",
   "execution_count": null,
   "metadata": {},
   "outputs": [],
   "source": [
    "fit = go.Scatter(x=osnr_db, y=utils.lin2db(b2b(osnr, *popt)), mode='lines', name='fit')\n",
    "measure = go.Scatter(x=osnr_db, y=ber_db, mode='markers', marker=dict(symbol='x',size=8), name='measures')\n",
    "layout = go.Layout(title='', xaxis_title='OSNR', yaxis_title='pre-FEC BER')\n",
    "fig = go.Figure(data=[fit, measure], layout=layout)\n",
    "fig.show()"
   ]
  },
  {
   "cell_type": "code",
   "execution_count": null,
   "metadata": {},
   "outputs": [],
   "source": [
    "MEASURED_BER = 0.03"
   ]
  },
  {
   "cell_type": "code",
   "execution_count": null,
   "metadata": {},
   "outputs": [],
   "source": [
    "def func(x):\n",
    "    return b2b(x, *popt) - MEASURED_BER\n",
    "gsnr = fsolve(func, x0=20)"
   ]
  },
  {
   "cell_type": "code",
   "execution_count": null,
   "metadata": {},
   "outputs": [],
   "source": [
    "gsnr_error = dest.snr[48] - utils.lin2db(gsnr[0])\n",
    "ber_error = MEASURED_BER - b2b(utils.db2lin(dest.snr[48]), *popt)\n",
    "print(f\"GSNR estimation is {gsnr_error:.3f} dB higher than measurement.\")\n",
    "print(f\"Pre-FEC BER estimation is {ber_error:.5f} lower than measurement.\")"
   ]
  }
 ],
 "metadata": {
  "kernelspec": {
   "display_name": "balloonpy-TuuRGB8j",
   "language": "python",
   "name": "python3"
  },
  "language_info": {
   "codemirror_mode": {
    "name": "ipython",
    "version": 3
   },
   "file_extension": ".py",
   "mimetype": "text/x-python",
   "name": "python",
   "nbconvert_exporter": "python",
   "pygments_lexer": "ipython3",
   "version": "3.8.10"
  }
 },
 "nbformat": 4,
 "nbformat_minor": 2
}
